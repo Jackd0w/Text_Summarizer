{
 "cells": [
  {
   "cell_type": "code",
   "execution_count": 6,
   "metadata": {},
   "outputs": [
    {
     "name": "stdout",
     "output_type": "stream",
     "text": [
      "2016-05-04\n"
     ]
    }
   ],
   "source": [
    "from datetime import date, timedelta\n",
    "\n",
    "year, month, day = (map(int, input().split(' ')))\n",
    "day_raz = int(input())\n",
    "\n",
    "data = date(year, month, day)\n",
    "new_date = data + timedelta(day_raz)\n",
    "\n",
    "\n",
    "print(new_date)"
   ]
  }
 ],
 "metadata": {
  "interpreter": {
   "hash": "df009659529e0ec04777c337a67e583675df0f6e46840be81ae36cc04261b86c"
  },
  "kernelspec": {
   "display_name": "Python 3.9.7 ('house_predict')",
   "language": "python",
   "name": "python3"
  },
  "language_info": {
   "codemirror_mode": {
    "name": "ipython",
    "version": 3
   },
   "file_extension": ".py",
   "mimetype": "text/x-python",
   "name": "python",
   "nbconvert_exporter": "python",
   "pygments_lexer": "ipython3",
   "version": "3.9.7"
  },
  "orig_nbformat": 4
 },
 "nbformat": 4,
 "nbformat_minor": 2
}
